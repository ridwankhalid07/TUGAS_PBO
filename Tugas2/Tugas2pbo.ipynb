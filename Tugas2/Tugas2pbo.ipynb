{
  "nbformat": 4,
  "nbformat_minor": 0,
  "metadata": {
    "colab": {
      "provenance": [],
      "authorship_tag": "ABX9TyPKbwKoHNr9qOS/K0eThQS2",
      "include_colab_link": true
    },
    "kernelspec": {
      "name": "python3",
      "display_name": "Python 3"
    },
    "language_info": {
      "name": "python"
    }
  },
  "cells": [
    {
      "cell_type": "markdown",
      "metadata": {
        "id": "view-in-github",
        "colab_type": "text"
      },
      "source": [
        "<a href=\"https://colab.research.google.com/github/ridwankhalid07/TUGAS_PBO/blob/main/Tugas2/Tugas2pbo.ipynb\" target=\"_parent\"><img src=\"https://colab.research.google.com/assets/colab-badge.svg\" alt=\"Open In Colab\"/></a>"
      ]
    },
    {
      "cell_type": "markdown",
      "source": [
        "# 1. Kelas Mahasiswa"
      ],
      "metadata": {
        "id": "9hooToj35qiA"
      }
    },
    {
      "cell_type": "code",
      "source": [
        "class Mahasiswa:\n",
        "    def __init__(self, nama, nim):\n",
        "        self.nama = nama\n",
        "        self.nim = nim\n",
        "\n",
        "    def cetakkrs(self):\n",
        "        print(f\"KRS untuk {self.nama} (NIM: {self.nim}) telah dicetak.\")\n",
        "\n",
        "# Membuat objek\n",
        "mhs = Mahasiswa(\"Ridwan Khalid\", \"230705112\")\n",
        "mhs.cetakkrs()"
      ],
      "metadata": {
        "id": "W8su98CK5qJn",
        "colab": {
          "base_uri": "https://localhost:8080/"
        },
        "outputId": "8e2fc915-932e-41cd-f347-9f2e2897e860"
      },
      "execution_count": 8,
      "outputs": [
        {
          "output_type": "stream",
          "name": "stdout",
          "text": [
            "KRS untuk Ridwan Khalid (NIM: 230705112) telah dicetak.\n"
          ]
        }
      ]
    },
    {
      "cell_type": "markdown",
      "source": [
        "# 2. Kelas Lingkaran"
      ],
      "metadata": {
        "id": "j_7Vwxm76CLv"
      }
    },
    {
      "cell_type": "code",
      "source": [
        "import math\n",
        "\n",
        "class Lingkaran:\n",
        "    def __init__(self, radius):\n",
        "        self.radius = radius\n",
        "\n",
        "    def buatlingkaran(self):\n",
        "        luas = math.pi * (self.radius ** 2)\n",
        "        print(f\"Luas lingkaran dengan radius {self.radius} adalah {luas:.2f}\")\n",
        "\n",
        "# Membuat objek\n",
        "blt = Lingkaran(9)\n",
        "blt.buatlingkaran()"
      ],
      "metadata": {
        "id": "fTzjyLFZ6TtF",
        "colab": {
          "base_uri": "https://localhost:8080/"
        },
        "outputId": "79573cad-a9fb-494e-f53f-efc590bea5fb"
      },
      "execution_count": null,
      "outputs": [
        {
          "output_type": "stream",
          "name": "stdout",
          "text": [
            "Luas lingkaran dengan radius 9 adalah 254.47\n"
          ]
        }
      ]
    },
    {
      "cell_type": "markdown",
      "source": [
        "# 3. Kelas Persegi"
      ],
      "metadata": {
        "id": "khH9F63F68Fx"
      }
    },
    {
      "cell_type": "code",
      "source": [
        "class Persegi:\n",
        "    def __init__(self, sisi):\n",
        "        self.sisi = sisi\n",
        "\n",
        "    def hitungluas(self):\n",
        "        luas = self.sisi * self.sisi\n",
        "        print(f\"Luas persegi dengan sisi {self.sisi} adalah {luas}\")\n",
        "\n",
        "# Membuat objek\n",
        "obj_persegi = Persegi(7)\n",
        "obj_persegi.hitungluas()"
      ],
      "metadata": {
        "id": "u21Sc2Nv7A9R"
      },
      "execution_count": null,
      "outputs": []
    },
    {
      "cell_type": "markdown",
      "source": [
        "# 4. Kelas Segitiga"
      ],
      "metadata": {
        "id": "73p-R-CN7FkM"
      }
    },
    {
      "cell_type": "code",
      "source": [
        "class Segitiga:\n",
        "    def __init__(self, alas, tinggi):\n",
        "        self.alas = alas\n",
        "        self.tinggi = tinggi\n",
        "\n",
        "    def hitungluas(self):\n",
        "        luas = 0.5 * self.alas * self.tinggi\n",
        "        print(f\"Luas segitiga dengan alas {self.alas} dan tinggi {self.tinggi} adalah {luas}\")\n",
        "\n",
        "# Membuat objek\n",
        "obj_segitiga = Segitiga(7, 2)\n",
        "obj_segitiga.hitungluas()"
      ],
      "metadata": {
        "colab": {
          "base_uri": "https://localhost:8080/"
        },
        "id": "6FDDfuxL7Iol",
        "outputId": "efef0f40-0eb3-4e3b-e5d1-a76c98768433"
      },
      "execution_count": null,
      "outputs": [
        {
          "output_type": "stream",
          "name": "stdout",
          "text": [
            "Luas segitiga dengan alas 7 dan tinggi 2 adalah 7.0\n"
          ]
        }
      ]
    },
    {
      "cell_type": "markdown",
      "source": [
        "5. Kelas Mobil"
      ],
      "metadata": {
        "id": "YcHIpIpB7WTG"
      }
    },
    {
      "cell_type": "code",
      "source": [
        "class Mobil:\n",
        "    def __init__(self, merk, model):\n",
        "        self.merk = merk\n",
        "        self.model = model\n",
        "\n",
        "    def info_mobil(self):\n",
        "        print(f\"Mobil: {self.merk} \")\n",
        "        print (f\"Model: {self.model}\")\n",
        "\n",
        "# Membuat objek\n",
        "obj_mobil = Mobil(\"honda\", \"civic\")\n",
        "obj_mobil.info_mobil()"
      ],
      "metadata": {
        "colab": {
          "base_uri": "https://localhost:8080/"
        },
        "id": "jxAWAGbX7auJ",
        "outputId": "72f56a74-cd9f-46b6-b333-a0ae8298af26"
      },
      "execution_count": null,
      "outputs": [
        {
          "output_type": "stream",
          "name": "stdout",
          "text": [
            "Mobil: honda \n",
            "Model: civic\n"
          ]
        }
      ]
    }
  ]
}